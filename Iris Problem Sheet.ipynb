{
 "cells": [
  {
   "cell_type": "code",
   "execution_count": 1,
   "metadata": {},
   "outputs": [],
   "source": [
    "import numpy as np \n",
    "import tensorflow as tf\n",
    "import csv"
   ]
  },
  {
   "cell_type": "code",
   "execution_count": 2,
   "metadata": {},
   "outputs": [],
   "source": [
    "iriss = list(csv.reader(open('C:\\\\users\\\\Damian Curran\\\\Desktop\\\\IRIS2.csv')))[0:150]"
   ]
  },
  {
   "cell_type": "code",
   "execution_count": 4,
   "metadata": {},
   "outputs": [
    {
     "data": {
      "text/plain": [
       "(100, 4)"
      ]
     },
     "execution_count": 4,
     "metadata": {},
     "output_type": "execute_result"
    }
   ],
   "source": [
    "np.random.shuffle(iriss)\n",
    "\n",
    "irisTrainData = np.array(iriss[0:][:100])[:,:4].astype(np.float)\n",
    "irisTestData = np.array(iriss[100:][:150])[:,:4].astype(np.float)\n",
    "\n",
    "irisTrainType = np.array(iriss[0:][:100])[:,4:].astype('S15')\n",
    "irisTestType = np.array(iriss[100:][:150])[:,4:].astype('S15')\n",
    "\n",
    "np.shape(irisTrainData)"
   ]
  },
  {
   "cell_type": "code",
   "execution_count": null,
   "metadata": {},
   "outputs": [],
   "source": []
  }
 ],
 "metadata": {
  "kernelspec": {
   "display_name": "Python 3",
   "language": "python",
   "name": "python3"
  },
  "language_info": {
   "codemirror_mode": {
    "name": "ipython",
    "version": 3
   },
   "file_extension": ".py",
   "mimetype": "text/x-python",
   "name": "python",
   "nbconvert_exporter": "python",
   "pygments_lexer": "ipython3",
   "version": "3.5.4"
  }
 },
 "nbformat": 4,
 "nbformat_minor": 2
}
