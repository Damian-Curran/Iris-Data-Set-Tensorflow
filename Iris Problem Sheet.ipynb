{
 "cells": [
  {
   "cell_type": "code",
   "execution_count": 8,
   "metadata": {},
   "outputs": [],
   "source": [
    "#Imports needed\n",
    "import numpy as np \n",
    "import tensorflow as tf\n",
    "import csv"
   ]
  },
  {
   "cell_type": "markdown",
   "metadata": {},
   "source": [
    "# Data Contents\n",
    "\n",
    "Upon inspection of the csv file, we see it is ordered and split into 5 columns, from left to right these columns are:\n",
    "\n",
    "* Sepal Length\n",
    "* Sepal Width\n",
    "* Petal Length\n",
    "* Petal Width\n",
    "* Species(setosa, versicolor, virginica)\n",
    "    \n",
    "It is important to determine and split your data according to your needs. For this repo we aim to feed data to a model to train and later test for accuracy. On this basis we will first recognize that the first four bullet points: sepal and petal width and lengts are our inputs and species is our output. \n",
    "\n",
    "Essentially\n",
    "1. x =  Sepal Length, Sepal Width, Petal Length, Petal Width.\n",
    "2. y =  Species(setosa, versicolor, virginica)"
   ]
  },
  {
   "cell_type": "code",
   "execution_count": 7,
   "metadata": {},
   "outputs": [],
   "source": [
    "#Data file found at https://raw.githubusercontent.com/pandas-dev/pandas/master/pandas/tests/data/iris.csv\n",
    "#Edited in Notepad++ to delete first row\n",
    "#Reads first 150 lines of csv file into list\n",
    "iriss = list(csv.reader(open('C:\\\\users\\\\Damian Curran\\\\Desktop\\\\IRIS2.csv')))[0:150]"
   ]
  },
  {
   "cell_type": "markdown",
   "metadata": {},
   "source": [
    "# Know your training and testing data sets\n",
    "\n",
    "We are working with a single data set which acts as both our train and test sets. During our inspection above we saw the data set is ordered, not exactly what we want for training.\n",
    "\n",
    "We must now first shuffle the data set randomly and then seperate the data to input and output. Note seperating the data first and then shuffling is not a good idea as the data won't be lined up with its original flower type.\n",
    "\n",
    "We are just as lucky, numpy comes with a shuffle function, happy days."
   ]
  },
  {
   "cell_type": "code",
   "execution_count": 10,
   "metadata": {},
   "outputs": [],
   "source": [
    "#Modifys sequences by shuffling\n",
    "#https://docs.scipy.org/doc/numpy-1.13.0/reference/generated/numpy.random.shuffle.html\n",
    "np.random.shuffle(iriss)\n",
    "\n",
    "#Spliting first four columns\n",
    "irisTrainData = np.array(iriss[0:][:100])[:,:4].astype(np.float)\n",
    "irisTestData = np.array(iriss[100:][:150])[:,:4].astype(np.float)\n",
    "\n",
    "#Splits last column\n",
    "irisTrainType = np.array(iriss[0:][:100])[:,4:].astype('S15')\n",
    "irisTestType = np.array(iriss[100:][:150])[:,4:].astype('S15')"
   ]
  }
 ],
 "metadata": {
  "kernelspec": {
   "display_name": "Python 3",
   "language": "python",
   "name": "python3"
  },
  "language_info": {
   "codemirror_mode": {
    "name": "ipython",
    "version": 3
   },
   "file_extension": ".py",
   "mimetype": "text/x-python",
   "name": "python",
   "nbconvert_exporter": "python",
   "pygments_lexer": "ipython3",
   "version": "3.5.4"
  }
 },
 "nbformat": 4,
 "nbformat_minor": 2
}
